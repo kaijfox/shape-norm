{
 "cells": [
  {
   "cell_type": "code",
   "execution_count": 1,
   "metadata": {},
   "outputs": [],
   "source": [
    "%load_ext autoreload\n",
    "%autoreload 3 --print"
   ]
  },
  {
   "cell_type": "code",
   "execution_count": 2,
   "metadata": {},
   "outputs": [],
   "source": [
    "from kpsn.project.paths import Project, create_model\n",
    "from kpsn.io import loaders\n",
    "from kpsn.models import joint\n",
    "from kpsn import config\n",
    "from kpsn.models import instantiation, setup, pose, morph, util as model_util\n",
    "from kpsn import fitting\n",
    "from kpsn.fitting import em\n",
    "from kpsn.io import alignment, features\n",
    "from kpsn.io.armature import Armature\n",
    "from kpsn.fitting import methods\n",
    "from kpsn.fitting import scans\n",
    "import os, sys, shutil\n",
    "from pprint import pprint\n",
    "from kpsn import viz\n",
    "from kpsn.viz import styles\n",
    "import matplotlib.pyplot as plt\n",
    "\n",
    "import logging\n",
    "logging.getLogger().setLevel(logging.INFO)\n"
   ]
  },
  {
   "cell_type": "markdown",
   "metadata": {},
   "source": [
    "### project setup"
   ]
  },
  {
   "cell_type": "code",
   "execution_count": 3,
   "metadata": {},
   "outputs": [],
   "source": [
    "project_dir = '../projects/dataset-refactor'\n",
    "project = Project(project_dir)\n",
    "\n",
    "if os.path.exists(project_dir): shutil.rmtree(project_dir)\n",
    "if not os.path.exists(project_dir):\n",
    "    loaders.raw_npy.setup_project_config(\n",
    "        project,\n",
    "        filepaths = {\n",
    "            '24wk_m3': '../../../data_explore/data/11_03_22_24wk_m3.npy',\n",
    "            '5wk_m6': '../../../data_explore/data/10_24_22_5wk_m6.npy'},\n",
    "        ref_session = '24wk_m3',\n",
    "        keypoint_names = [\n",
    "            'shldr', 'back', 'hips', 't_base','t_tip', 'head',\n",
    "            'l_ear', 'r_ear', 'nose', 'lr_knee', 'lr_foot',\n",
    "            'rr_knee', 'rr_foot', 'lf_foot', 'rf_foot'],\n",
    "        keypoint_parents = [\n",
    "            'back', 'hips', None, 'hips', 'shldr',\n",
    "            'head', 'head', 'head', 'hips', 'lr_knee',\n",
    "            'hips', 'rr_knee', 'shldr', 'shldr'],\n",
    "        exclude_keypoints = ['t_tip'],\n",
    "        subsample = 100,\n",
    "        feature_type='pcs',)\n",
    "    \n",
    "    setup.setup_base_model_config(project.main_config(), project.base_model_config(),)\n",
    "\n",
    "plotter, colors = styles.init_nb(project.root() / \"plots\", style = \"vscode_dark\")"
   ]
  },
  {
   "cell_type": "code",
   "execution_count": 4,
   "metadata": {},
   "outputs": [],
   "source": [
    "cfg = config.load_project_config(project.main_config())\n",
    "dataset = loaders.raw_npy.load(cfg[\"dataset\"])\n",
    "dataset, cfg = loaders.raw_npy.default_alignment.calibrate(\n",
    "    dataset, cfg, origin=\"hips\", anterior=\"head\"\n",
    ")\n",
    "\n",
    "cfg = features.pcs.calibrate(dataset, cfg)\n",
    "dataset = features.reduce_to_features(dataset, cfg[\"features\"])\n",
    "config.save_project_config(project.main_config(), cfg, write_calib=True)"
   ]
  },
  {
   "cell_type": "code",
   "execution_count": 5,
   "metadata": {},
   "outputs": [],
   "source": [
    "# --- calibration: pose and morph models\n",
    "cfg = config.load_model_config(project.base_model_config())\n",
    "cfg[\"fit\"][\"n_steps\"] = 400\n",
    "\n",
    "cfg = pose.gmm.calibrate_base_model(dataset, cfg, n_components=3)\n",
    "cfg = morph.lowrank_affine.calibrate_base_model(dataset, cfg)\n",
    "cfg = em.calibrate_base_model(dataset, cfg)\n",
    "config.save_model_config(project.base_model_config(), cfg, write_calib=True)"
   ]
  },
  {
   "cell_type": "code",
   "execution_count": 6,
   "metadata": {},
   "outputs": [
    {
     "name": "stderr",
     "output_type": "stream",
     "text": [
      "INFO:root:Initializing morph model\n",
      "INFO:root:Initializing pose model\n",
      "INFO:root:Fitting GMM to 360 frames\n",
      "INFO:root:Adjusting learning rate:4.0 -> 0.005555555555555556\n",
      "INFO:root:Loading LR schedule: const\n",
      "INFO:root:Step 0 : loss = 29515.373046875\n",
      "INFO:root:Step 1 : loss = 29488.6796875\n",
      "INFO:root:Step 2 : loss = 29478.126953125\n",
      "INFO:root:Step 3 : loss = 29473.595703125\n",
      "INFO:root:Step 4 : loss = 29471.3359375\n",
      "INFO:root:Step 5 : loss = 29469.87890625\n",
      "INFO:root:Step 6 : loss = 29469.19921875\n",
      "INFO:root:Step 7 : loss = 29468.87890625\n",
      "INFO:root:Step 8 : loss = 29468.607421875\n",
      "INFO:root:Step 9 : loss = 29468.59765625\n",
      "INFO:root:Step 10 : loss = 29468.505859375\n",
      "INFO:root:Step 11 : loss = 29468.453125\n",
      "INFO:root:Step 12 : loss = 29468.345703125\n",
      "INFO:root:Step 13 : loss = 29468.05078125\n",
      "INFO:root:Step 14 : loss = 29468.02734375\n",
      "INFO:root:Step 15 : loss = 29467.759765625\n",
      "INFO:root:Step 16 : loss = 29467.775390625\n",
      "INFO:root:Step 17 : loss = 29467.80078125\n",
      "INFO:root:Step 18 : loss = 29467.796875\n",
      "INFO:root:Step 19 : loss = 29467.806640625\n",
      "INFO:root:Step 20 : loss = 29467.953125\n",
      "INFO:root:Step 21 : loss = 29467.830078125\n",
      "INFO:root:Step 22 : loss = 29467.8359375\n",
      "INFO:root:Step 23 : loss = 29467.87109375\n",
      "INFO:root:Step 24 : loss = 29467.830078125\n",
      "INFO:root:Step 25 : loss = 29467.90625\n",
      "INFO:root:Step 26 : loss = 29467.865234375\n",
      "INFO:root:Step 27 : loss = 29467.837890625\n",
      "INFO:root:Step 28 : loss = 29467.83984375\n",
      "INFO:root:Step 29 : loss = 29467.943359375\n",
      "INFO:root:Step 30 : loss = 29467.8515625\n",
      "INFO:root:Step 31 : loss = 29467.845703125\n",
      "INFO:root:Step 32 : loss = 29467.849609375\n",
      "INFO:root:Step 33 : loss = 29467.8359375\n",
      "INFO:root:Step 34 : loss = 29467.845703125\n",
      "INFO:root:Step 35 : loss = 29467.8671875\n",
      "INFO:root:Step 36 : loss = 29467.84375\n",
      "INFO:root:Step 37 : loss = 29467.84375\n",
      "INFO:root:Step 38 : loss = 29467.859375\n",
      "INFO:root:Step 39 : loss = 29467.84765625\n"
     ]
    }
   ],
   "source": [
    "model_dir, cfg = create_model(\n",
    "    project,\n",
    "    \"first_run\",\n",
    "    config_overrides={\n",
    "        \"fit.learning_rate\": 4e0,\n",
    "        \"fit.n_steps\": 40,\n",
    "    },\n",
    ")\n",
    "fit_data = methods.fit(\n",
    "    project.model(\"first_run\"),\n",
    "    log_every=1,\n",
    ")"
   ]
  },
  {
   "cell_type": "code",
   "execution_count": null,
   "metadata": {},
   "outputs": [],
   "source": []
  }
 ],
 "metadata": {
  "kernelspec": {
   "display_name": "kpsn-dev",
   "language": "python",
   "name": "python3"
  },
  "language_info": {
   "codemirror_mode": {
    "name": "ipython",
    "version": 3
   },
   "file_extension": ".py",
   "mimetype": "text/x-python",
   "name": "python",
   "nbconvert_exporter": "python",
   "pygments_lexer": "ipython3",
   "version": "3.9.18"
  }
 },
 "nbformat": 4,
 "nbformat_minor": 2
}
